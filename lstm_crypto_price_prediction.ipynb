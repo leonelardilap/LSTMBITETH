{
  "nbformat": 4,
  "nbformat_minor": 0,
  "metadata": {
    "colab": {
      "name": "lstm-crypto-price-prediction.ipynb",
      "version": "0.3.2",
      "provenance": [],
      "collapsed_sections": []
    },
    "kernelspec": {
      "name": "python3",
      "display_name": "Python 3"
    },
    "accelerator": "GPU"
  },
  "cells": [
    {
      "cell_type": "markdown",
      "metadata": {
        "id": "vUxZ6yCDQVw7",
        "colab_type": "text"
      },
      "source": [
        "# Bitcoin and Ethereum price prediction with RNN LSTM\n"
      ]
    },
    {
      "cell_type": "markdown",
      "metadata": {
        "id": "jX4O0STONvtm",
        "colab_type": "text"
      },
      "source": [
        "# Full Code"
      ]
    },
    {
      "cell_type": "markdown",
      "metadata": {
        "id": "DKA1cgltl72z",
        "colab_type": "text"
      },
      "source": [
        "Importing necessary libraries"
      ]
    },
    {
      "cell_type": "code",
      "metadata": {
        "id": "R312y6JSrGR9",
        "colab_type": "code",
        "cellView": "code",
        "outputId": "d603eaff-7f13-4deb-ba66-35851a0b4332",
        "colab": {
          "base_uri": "https://localhost:8080/",
          "height": 34
        }
      },
      "source": [
        "#@title Default title text\n",
        "import pandas as pd\n",
        "import time\n",
        "import matplotlib.pyplot as plt\n",
        "import datetime\n",
        "import numpy as np\n",
        "import gc\n",
        "\n",
        "# import the relevant Keras modules\n",
        "!pip install -q keras # this is not required if you are not using Google's colab\n",
        "import keras\n",
        "from keras.models import Sequential\n",
        "from keras.layers import Activation, Dense\n",
        "from keras.layers import LSTM\n",
        "from keras.layers import Dropout\n",
        "\n",
        "%matplotlib inline"
      ],
      "execution_count": 0,
      "outputs": [
        {
          "output_type": "stream",
          "text": [
            "Using TensorFlow backend.\n"
          ],
          "name": "stderr"
        }
      ]
    },
    {
      "cell_type": "markdown",
      "metadata": {
        "id": "UPqh481vmI6j",
        "colab_type": "text"
      },
      "source": [
        "Setting up hyper parameters and global variables for our model:"
      ]
    },
    {
      "cell_type": "code",
      "metadata": {
        "id": "yu13w2SuugZw",
        "colab_type": "code",
        "colab": {}
      },
      "source": [
        "neurons = 1024                 # number of hidden units in the LSTM layer\n",
        "activation_function = 'tanh'  # activation function for LSTM and Dense layer\n",
        "loss = 'mse'                  # loss function for calculating the gradient, in this case Mean Squared Error\n",
        "optimizer= 'adam'             # optimizer for appljying gradient decent\n",
        "dropout = 0.25                # dropout ratio used after each LSTM layer to avoid overfitting\n",
        "batch_size = 128              \n",
        "epochs = 53                  \n",
        "window_len = 3               # is an intiger to be used as the look back window for creating a single input sample.\n",
        "training_size = 0.8           # porportion of data to be used for training\n",
        "merge_date = '2016-01-01'     # the earliest date which we have data for both ETH and BTC or any other provided coin"
      ],
      "execution_count": 0,
      "outputs": []
    },
    {
      "cell_type": "markdown",
      "metadata": {
        "id": "gS2JkcmJmQa9",
        "colab_type": "text"
      },
      "source": [
        "Here we will define functions for preprocessing our data as well as the build_model function:"
      ]
    },
    {
      "cell_type": "code",
      "metadata": {
        "id": "Qm_1vhACbDJe",
        "colab_type": "code",
        "colab": {}
      },
      "source": [
        "def get_market_data(market, tag=True):\n",
        "  \"\"\"\n",
        "  market: the full name of the cryptocurrency as spelled on coinmarketcap.com. eg.: 'bitcoin'\n",
        "  tag: eg.: 'btc', if provided it will add a tag to the name of every column.\n",
        "  returns: panda DataFrame\n",
        "  This function will use the coinmarketcap.com url for provided coin/token page. \n",
        "  Reads the OHLCV and Market Cap.\n",
        "  Converts the date format to be readable. \n",
        "  Makes sure that the data is consistant by converting non_numeric values to a number very close to 0.\n",
        "  And finally tags each columns if provided.\n",
        "  \"\"\"\n",
        "  market_data = pd.read_html(\"https://coinmarketcap.com/currencies/\" + market + \n",
        "                             \"/historical-data/?start=20130428&end=\"+time.strftime(\"%Y%m%d\"), flavor='html5lib')[0]\n",
        "  market_data = market_data.assign(Date=pd.to_datetime(market_data['Date']))  \n",
        "  market_data['Volume'] = (pd.to_numeric(market_data['Volume'], errors='coerce').fillna(0))\n",
        "  if tag:\n",
        "    market_data.columns = [market_data.columns[0]] + [tag + '_' + i for i in market_data.columns[1:]]\n",
        "  return market_data\n",
        "\n",
        "\n",
        "def merge_data(a, b, from_date=merge_date):\n",
        "  \"\"\"\n",
        "  a: first DataFrame\n",
        "  b: second DataFrame\n",
        "  from_date: includes the data from the provided date and drops the any data before that date.\n",
        "  returns merged data as Pandas DataFrame\n",
        "  \"\"\"\n",
        "  merged_data = pd.merge(a, b, on=['Date'])\n",
        "  merged_data = merged_data[merged_data['Date'] >= from_date]\n",
        "  return merged_data\n",
        "\n",
        "\n",
        "def add_volatility(data, coins=['BTC', 'ETH']):\n",
        "  \"\"\"\n",
        "  data: input data, pandas DataFrame\n",
        "  coins: default is for 'btc and 'eth'. It could be changed as needed\n",
        "  This function calculates the volatility and close_off_high of each given coin in 24 hours, \n",
        "  and adds the result as new columns to the DataFrame.\n",
        "  Return: DataFrame with added columns\n",
        "  \"\"\"\n",
        "  for coin in coins:\n",
        "    # calculate the daily change\n",
        "    kwargs = {coin + '_change': lambda x: (x[coin + '_Close'] - x[coin + '_Open']) / x[coin + '_Open'],\n",
        "             coin + '_close_off_high': lambda x: 2*(x[coin + '_High'] - x[coin + '_Close']) / (x[coin + '_High'] - x[coin + '_Low']) - 1,\n",
        "             coin + '_volatility': lambda x: (x[coin + '_High'] - x[coin + '_Low']) / (x[coin + '_Open'])}\n",
        "    data = data.assign(**kwargs)\n",
        "  return data\n",
        "\n",
        "\n",
        "def create_model_data(data):\n",
        "  \"\"\"\n",
        "  data: pandas DataFrame\n",
        "  This function drops unnecessary columns and reverses the order of DataFrame based on decending dates.\n",
        "  Return: pandas DataFrame\n",
        "  \"\"\"\n",
        "  #data = data[['Date']+[coin+metric for coin in ['btc_', 'eth_'] for metric in ['Close','Volume','close_off_high','volatility']]]\n",
        "  data = data[['Date']+[coin+metric for coin in ['BTC_', 'ETH_'] for metric in ['Close','Volume']]]\n",
        "  data = data.sort_values(by='Date')\n",
        "  return data\n",
        "\n",
        "\n",
        "def split_data(data, training_size=0.8):\n",
        "  \"\"\"\n",
        "  data: Pandas Dataframe\n",
        "  training_size: proportion of the data to be used for training\n",
        "  This function splits the data into training_set and test_set based on the given training_size\n",
        "  Return: train_set and test_set as pandas DataFrame\n",
        "  \"\"\"\n",
        "  return data[:int(training_size*len(data))], data[int(training_size*len(data)):]\n",
        "\n",
        "\n",
        "def create_inputs(data, coins=['BTC', 'ETH'], window_len=window_len):\n",
        "  \"\"\"\n",
        "  data: pandas DataFrame, this could be either training_set or test_set\n",
        "  coins: coin datas which will be used as the input. Default is 'btc', 'eth'\n",
        "  window_len: is an intiger to be used as the look back window for creating a single input sample.\n",
        "  This function will create input array X from the given dataset and will normalize 'Close' and 'Volume' between 0 and 1\n",
        "  Return: X, the input for our model as a python list which later needs to be converted to numpy array.\n",
        "  \"\"\"\n",
        "  norm_cols = [coin + metric for coin in coins for metric in ['_Close', '_Volume']]\n",
        "  inputs = []\n",
        "  for i in range(len(data) - window_len):\n",
        "    temp_set = data[i:(i + window_len)].copy()\n",
        "    inputs.append(temp_set)\n",
        "    for col in norm_cols:\n",
        "      inputs[i].loc[:, col] = inputs[i].loc[:, col] / inputs[i].loc[:, col].iloc[0] - 1  \n",
        "  return inputs\n",
        "\n",
        "\n",
        "def create_outputs(data, coin, window_len=window_len):\n",
        "  \"\"\"\n",
        "  data: pandas DataFrame, this could be either training_set or test_set\n",
        "  coin: the target coin in which we need to create the output labels for\n",
        "  window_len: is an intiger to be used as the look back window for creating a single input sample.\n",
        "  This function will create the labels array for our training and validation and normalize it between 0 and 1\n",
        "  Return: Normalized numpy array for 'Close' prices of the given coin\n",
        "  \"\"\"\n",
        "  return (data[coin + '_Close'][window_len:].values / data[coin + '_Close'][:-window_len].values) - 1\n",
        "\n",
        "\n",
        "def to_array(data):\n",
        "  \"\"\"\n",
        "  data: DataFrame\n",
        "  This function will convert list of inputs to a numpy array\n",
        "  Return: numpy array\n",
        "  \"\"\"\n",
        "  x = [np.array(data[i]) for i in range (len(data))]\n",
        "  return np.array(x)\n",
        "\n",
        "\n",
        "def build_model(inputs, output_size, neurons, activ_func=activation_function, dropout=dropout, loss=loss, optimizer=optimizer):\n",
        "  \"\"\"\n",
        "  inputs: input data as numpy array\n",
        "  output_size: number of predictions per input sample\n",
        "  neurons: number of neurons/ units in the LSTM layer\n",
        "  active_func: Activation function to be used in LSTM layers and Dense layer\n",
        "  dropout: dropout ration, default is 0.25\n",
        "  loss: loss function for calculating the gradient\n",
        "  optimizer: type of optimizer to backpropagate the gradient\n",
        "  This function will build 3 layered RNN model with LSTM cells with dripouts after each LSTM layer \n",
        "  and finally a dense layer to produce the output using keras' sequential model.\n",
        "  Return: Keras sequential model and model summary\n",
        "  \"\"\"\n",
        "  model = Sequential()\n",
        "  model.add(LSTM(neurons, return_sequences=True, input_shape=(inputs.shape[1], inputs.shape[2]), activation=activ_func))\n",
        "  model.add(Dropout(dropout))\n",
        "  model.add(LSTM(neurons, return_sequences=True, activation=activ_func))\n",
        "  model.add(Dropout(dropout))\n",
        "  model.add(LSTM(neurons, return_sequences=True, activation=activ_func))\n",
        "  model.add(Dropout(dropout))\n",
        "  model.add(LSTM(neurons, activation=activ_func))\n",
        "  model.add(Dropout(dropout))\n",
        "  model.add(Dense(units=output_size))\n",
        "  model.add(Activation(activ_func))\n",
        "  model.compile(loss=loss, optimizer=optimizer, metrics=['mae'])\n",
        "  model.summary()\n",
        "  return model"
      ],
      "execution_count": 0,
      "outputs": []
    },
    {
      "cell_type": "markdown",
      "metadata": {
        "id": "6n_vvOcsmcSg",
        "colab_type": "text"
      },
      "source": [
        "Below are the functions for plotting market data and the results after the training:"
      ]
    },
    {
      "cell_type": "code",
      "metadata": {
        "id": "auwt63XLkuTD",
        "colab_type": "code",
        "colab": {}
      },
      "source": [
        "def show_plot(data, tag):\n",
        "  fig, (ax1, ax2) = plt.subplots(2,1, gridspec_kw = {'height_ratios':[3, 1]})\n",
        "  ax1.set_ylabel('Closing Price ($)',fontsize=12)\n",
        "  ax2.set_ylabel('Volume ($ bn)',fontsize=12)\n",
        "  ax2.set_yticks([int('%d000000000'%i) for i in range(10)])\n",
        "  ax2.set_yticklabels(range(10))\n",
        "  ax1.set_xticks([datetime.date(i,j,1) for i in range(2013,2019) for j in [1,7]])\n",
        "  ax1.set_xticklabels('')\n",
        "  ax2.set_xticks([datetime.date(i,j,1) for i in range(2013,2019) for j in [1,7]])\n",
        "  ax2.set_xticklabels([datetime.date(i,j,1).strftime('%b %Y')  for i in range(2013,2019) for j in [1,7]])\n",
        "  ax1.plot(data['Date'].astype(datetime.datetime),data[tag +'_Open'])\n",
        "  ax2.bar(data['Date'].astype(datetime.datetime).values, data[tag +'_Volume'].values)\n",
        "  fig.tight_layout()\n",
        "  plt.show()\n",
        "  \n",
        "\n",
        "def date_labels():\n",
        "  last_date = market_data.iloc[0, 0]\n",
        "  date_list = [last_date - datetime.timedelta(days=x) for x in range(len(X_test))]\n",
        "  return[date.strftime('%m/%d/%Y') for date in date_list][::-1]\n",
        "\n",
        "\n",
        "def plot_results(history, model, Y_target, coin):\n",
        "  plt.figure(figsize=(25, 20))\n",
        "  plt.subplot(311)\n",
        "  plt.plot(history.epoch, history.history['loss'], )\n",
        "  plt.plot(history.epoch, history.history['val_loss'])\n",
        "  plt.xlabel('Number of Epochs')\n",
        "  plt.ylabel('Loss')\n",
        "  plt.title(coin + ' Model Loss')\n",
        "  plt.legend(['Training', 'Test'])\n",
        "\n",
        "  plt.subplot(312)\n",
        "  plt.plot(Y_target)\n",
        "  plt.plot(model.predict(X_train))\n",
        "  plt.xlabel('Dates')\n",
        "  plt.ylabel('Price')\n",
        "  plt.title(coin + ' Single Point Price Prediction on Training Set')\n",
        "  plt.legend(['Actual','Predicted'])\n",
        "\n",
        "  ax1 = plt.subplot(313)\n",
        "  plt.plot(test_set[coin + '_Close'][window_len:].values.tolist())\n",
        "  plt.plot(((np.transpose(model.predict(X_test)) + 1) * test_set[coin + '_Close'].values[:-window_len])[0])\n",
        "  plt.xlabel('Dates')\n",
        "  plt.ylabel('Price')\n",
        "  plt.title(coin + ' Single Point Price Prediction on Test Set')\n",
        "  plt.legend(['Actual','Predicted'])\n",
        "  \n",
        "  date_list = date_labels()\n",
        "  ax1.set_xticks([x for x in range(len(date_list))])\n",
        "  for label in ax1.set_xticklabels([date for date in date_list], rotation='vertical')[::2]:\n",
        "    label.set_visible(False)\n",
        "\n",
        "  plt.show()"
      ],
      "execution_count": 0,
      "outputs": []
    },
    {
      "cell_type": "markdown",
      "metadata": {
        "id": "hKeDTnhSmkGz",
        "colab_type": "text"
      },
      "source": [
        "Load the market data into variables *btc_data* and *eth_data*:"
      ]
    },
    {
      "cell_type": "code",
      "metadata": {
        "id": "POobtVVWYigo",
        "colab_type": "code",
        "colab": {}
      },
      "source": [
        "btc_data = get_market_data(\"bitcoin\", tag='BTC')\n",
        "eth_data = get_market_data(\"ethereum\", tag='ETH')"
      ],
      "execution_count": 0,
      "outputs": []
    },
    {
      "cell_type": "code",
      "metadata": {
        "id": "cs-Y0-68Sfrd",
        "colab_type": "code",
        "outputId": "290dfa27-374d-4cde-cd57-f2e9d3464d19",
        "colab": {
          "base_uri": "https://localhost:8080/",
          "height": 204
        }
      },
      "source": [
        "btc_data.head()"
      ],
      "execution_count": 0,
      "outputs": [
        {
          "output_type": "execute_result",
          "data": {
            "text/html": [
              "<div>\n",
              "<style scoped>\n",
              "    .dataframe tbody tr th:only-of-type {\n",
              "        vertical-align: middle;\n",
              "    }\n",
              "\n",
              "    .dataframe tbody tr th {\n",
              "        vertical-align: top;\n",
              "    }\n",
              "\n",
              "    .dataframe thead th {\n",
              "        text-align: right;\n",
              "    }\n",
              "</style>\n",
              "<table border=\"1\" class=\"dataframe\">\n",
              "  <thead>\n",
              "    <tr style=\"text-align: right;\">\n",
              "      <th></th>\n",
              "      <th>Date</th>\n",
              "      <th>BTC_Open</th>\n",
              "      <th>BTC_High</th>\n",
              "      <th>BTC_Low</th>\n",
              "      <th>BTC_Close</th>\n",
              "      <th>BTC_Volume</th>\n",
              "      <th>BTC_Market Cap</th>\n",
              "    </tr>\n",
              "  </thead>\n",
              "  <tbody>\n",
              "    <tr>\n",
              "      <th>0</th>\n",
              "      <td>2018-03-20</td>\n",
              "      <td>8619.67</td>\n",
              "      <td>9051.02</td>\n",
              "      <td>8389.89</td>\n",
              "      <td>8913.47</td>\n",
              "      <td>6.361790e+09</td>\n",
              "      <td>145922000000</td>\n",
              "    </tr>\n",
              "    <tr>\n",
              "      <th>1</th>\n",
              "      <td>2018-03-19</td>\n",
              "      <td>8344.12</td>\n",
              "      <td>8675.87</td>\n",
              "      <td>8182.40</td>\n",
              "      <td>8630.65</td>\n",
              "      <td>6.729110e+09</td>\n",
              "      <td>141240000000</td>\n",
              "    </tr>\n",
              "    <tr>\n",
              "      <th>2</th>\n",
              "      <td>2018-03-18</td>\n",
              "      <td>7890.52</td>\n",
              "      <td>8245.51</td>\n",
              "      <td>7397.99</td>\n",
              "      <td>8223.68</td>\n",
              "      <td>6.639190e+09</td>\n",
              "      <td>133547000000</td>\n",
              "    </tr>\n",
              "    <tr>\n",
              "      <th>3</th>\n",
              "      <td>2018-03-17</td>\n",
              "      <td>8321.91</td>\n",
              "      <td>8346.53</td>\n",
              "      <td>7812.82</td>\n",
              "      <td>7916.88</td>\n",
              "      <td>4.426150e+09</td>\n",
              "      <td>140834000000</td>\n",
              "    </tr>\n",
              "    <tr>\n",
              "      <th>4</th>\n",
              "      <td>2018-03-16</td>\n",
              "      <td>8322.91</td>\n",
              "      <td>8585.15</td>\n",
              "      <td>8005.31</td>\n",
              "      <td>8338.35</td>\n",
              "      <td>5.289380e+09</td>\n",
              "      <td>140834000000</td>\n",
              "    </tr>\n",
              "  </tbody>\n",
              "</table>\n",
              "</div>"
            ],
            "text/plain": [
              "        Date  BTC_Open  BTC_High  BTC_Low  BTC_Close    BTC_Volume  \\\n",
              "0 2018-03-20   8619.67   9051.02  8389.89    8913.47  6.361790e+09   \n",
              "1 2018-03-19   8344.12   8675.87  8182.40    8630.65  6.729110e+09   \n",
              "2 2018-03-18   7890.52   8245.51  7397.99    8223.68  6.639190e+09   \n",
              "3 2018-03-17   8321.91   8346.53  7812.82    7916.88  4.426150e+09   \n",
              "4 2018-03-16   8322.91   8585.15  8005.31    8338.35  5.289380e+09   \n",
              "\n",
              "   BTC_Market Cap  \n",
              "0    145922000000  \n",
              "1    141240000000  \n",
              "2    133547000000  \n",
              "3    140834000000  \n",
              "4    140834000000  "
            ]
          },
          "metadata": {
            "tags": []
          },
          "execution_count": 6
        }
      ]
    },
    {
      "cell_type": "code",
      "metadata": {
        "id": "rO60a_-r6svn",
        "colab_type": "code",
        "outputId": "ae5b9815-0f1c-4f77-dfa1-51342d8a5ddd",
        "colab": {
          "base_uri": "https://localhost:8080/",
          "height": 577
        }
      },
      "source": [
        "show_plot(btc_data, tag='BTC')\n",
        "show_plot(eth_data, tag='ETH')"
      ],
      "execution_count": 0,
      "outputs": [
        {
          "output_type": "display_data",
          "data": {
            "image/png": "[encoded data removed]",
            "text/plain": [
              "<matplotlib.figure.Figure at 0x7f0256ce4ba8>"
            ]
          },
          "metadata": {
            "tags": []
          }
        },
        {
          "output_type": "display_data",
          "data": {
            "image/png": "[encoded data removed]",
            "text/plain": [
              "<matplotlib.figure.Figure at 0x7f0256ce4fd0>"
            ]
          },
          "metadata": {
            "tags": []
          }
        }
      ]
    },
    {
      "cell_type": "markdown",
      "metadata": {
        "id": "DKSzKGR4myVi",
        "colab_type": "text"
      },
      "source": [
        "Merging the BTC and ETH data and splitting them to training and test sets:"
      ]
    },
    {
      "cell_type": "code",
      "metadata": {
        "id": "0xM2ct_ve1lH",
        "colab_type": "code",
        "colab": {}
      },
      "source": [
        "market_data = merge_data(btc_data, eth_data)\n",
        "model_data = create_model_data(market_data)\n",
        "train_set, test_set = split_data(model_data)"
      ],
      "execution_count": 0,
      "outputs": []
    },
    {
      "cell_type": "code",
      "metadata": {
        "id": "Qnqb06x0gGfe",
        "colab_type": "code",
        "outputId": "09cb24c0-5cd0-4877-8593-cc109af75cfa",
        "colab": {
          "base_uri": "https://localhost:8080/",
          "height": 204
        }
      },
      "source": [
        "model_data.head()"
      ],
      "execution_count": 0,
      "outputs": [
        {
          "output_type": "execute_result",
          "data": {
            "text/html": [
              "<div>\n",
              "<style scoped>\n",
              "    .dataframe tbody tr th:only-of-type {\n",
              "        vertical-align: middle;\n",
              "    }\n",
              "\n",
              "    .dataframe tbody tr th {\n",
              "        vertical-align: top;\n",
              "    }\n",
              "\n",
              "    .dataframe thead th {\n",
              "        text-align: right;\n",
              "    }\n",
              "</style>\n",
              "<table border=\"1\" class=\"dataframe\">\n",
              "  <thead>\n",
              "    <tr style=\"text-align: right;\">\n",
              "      <th></th>\n",
              "      <th>Date</th>\n",
              "      <th>BTC_Close</th>\n",
              "      <th>BTC_Volume</th>\n",
              "      <th>ETH_Close</th>\n",
              "      <th>ETH_Volume</th>\n",
              "    </tr>\n",
              "  </thead>\n",
              "  <tbody>\n",
              "    <tr>\n",
              "      <th>809</th>\n",
              "      <td>2016-01-01</td>\n",
              "      <td>434.33</td>\n",
              "      <td>36278900.0</td>\n",
              "      <td>0.948024</td>\n",
              "      <td>206062</td>\n",
              "    </tr>\n",
              "    <tr>\n",
              "      <th>808</th>\n",
              "      <td>2016-01-02</td>\n",
              "      <td>433.44</td>\n",
              "      <td>30096600.0</td>\n",
              "      <td>0.937124</td>\n",
              "      <td>255504</td>\n",
              "    </tr>\n",
              "    <tr>\n",
              "      <th>807</th>\n",
              "      <td>2016-01-03</td>\n",
              "      <td>430.01</td>\n",
              "      <td>39633800.0</td>\n",
              "      <td>0.971905</td>\n",
              "      <td>407632</td>\n",
              "    </tr>\n",
              "    <tr>\n",
              "      <th>806</th>\n",
              "      <td>2016-01-04</td>\n",
              "      <td>433.09</td>\n",
              "      <td>38477500.0</td>\n",
              "      <td>0.954480</td>\n",
              "      <td>346245</td>\n",
              "    </tr>\n",
              "    <tr>\n",
              "      <th>805</th>\n",
              "      <td>2016-01-05</td>\n",
              "      <td>431.96</td>\n",
              "      <td>34522600.0</td>\n",
              "      <td>0.950176</td>\n",
              "      <td>219833</td>\n",
              "    </tr>\n",
              "  </tbody>\n",
              "</table>\n",
              "</div>"
            ],
            "text/plain": [
              "          Date  BTC_Close  BTC_Volume  ETH_Close  ETH_Volume\n",
              "809 2016-01-01     434.33  36278900.0   0.948024      206062\n",
              "808 2016-01-02     433.44  30096600.0   0.937124      255504\n",
              "807 2016-01-03     430.01  39633800.0   0.971905      407632\n",
              "806 2016-01-04     433.09  38477500.0   0.954480      346245\n",
              "805 2016-01-05     431.96  34522600.0   0.950176      219833"
            ]
          },
          "metadata": {
            "tags": []
          },
          "execution_count": 9
        }
      ]
    },
    {
      "cell_type": "markdown",
      "metadata": {
        "id": "Q8Zbhe4_m7qY",
        "colab_type": "text"
      },
      "source": [
        "Pre-processing data and producing inputs and target outputs:"
      ]
    },
    {
      "cell_type": "code",
      "metadata": {
        "id": "tKnWAnttdNQP",
        "colab_type": "code",
        "cellView": "code",
        "outputId": "6c9c6d7d-81a0-48a9-cabd-48a7b84114f3",
        "colab": {
          "base_uri": "https://localhost:8080/",
          "height": 51
        }
      },
      "source": [
        "train_set = train_set.drop('Date', 1)\n",
        "test_set = test_set.drop('Date', 1)\n",
        "\n",
        "X_train = create_inputs(train_set)\n",
        "Y_train_btc = create_outputs(train_set, coin='BTC')\n",
        "X_test = create_inputs(test_set)\n",
        "Y_test_btc = create_outputs(test_set, coin='BTC')\n",
        "\n",
        "Y_train_eth = create_outputs(train_set, coin='ETH')\n",
        "Y_test_eth = create_outputs(test_set, coin='ETH')\n",
        "\n",
        "X_train, X_test = to_array(X_train), to_array(X_test)\n",
        "\n",
        "print (np.shape(X_train), np.shape(X_test), np.shape(Y_train_btc), np.shape(Y_test_btc))\n",
        "print (np.shape(X_train), np.shape(X_test), np.shape(Y_train_eth), np.shape(Y_test_eth))"
      ],
      "execution_count": 0,
      "outputs": [
        {
          "output_type": "stream",
          "text": [
            "(645, 3, 4) (159, 3, 4) (645,) (159,)\n",
            "(645, 3, 4) (159, 3, 4) (645,) (159,)\n"
          ],
          "name": "stdout"
        }
      ]
    },
    {
      "cell_type": "markdown",
      "metadata": {
        "id": "d0Lk7SBinKlN",
        "colab_type": "text"
      },
      "source": [
        "Initializing the model and training it for predicting BTC price for next day:"
      ]
    },
    {
      "cell_type": "code",
      "metadata": {
        "id": "vtU0NZP-JQLq",
        "colab_type": "code",
        "outputId": "847e77f4-cd2e-4fe7-ad32-f119c68148b9",
        "colab": {
          "base_uri": "https://localhost:8080/",
          "height": 510
        }
      },
      "source": [
        "# clean up the memory\n",
        "gc.collect()\n",
        "\n",
        "# random seed for reproducibility\n",
        "np.random.seed(202)\n",
        "\n",
        "# initialise model architecture\n",
        "btc_model = build_model(X_train, output_size=1, neurons=neurons)\n",
        "\n",
        "# train model on data\n",
        "btc_history = btc_model.fit(X_train, Y_train_btc, epochs=epochs, batch_size=batch_size, verbose=1, validation_data=(X_test, Y_test_btc), shuffle=False)"
      ],
      "execution_count": 0,
      "outputs": [
        {
          "output_type": "stream",
          "text": [
            "_________________________________________________________________\n",
            "Layer (type)                 Output Shape              Param #   \n",
            "=================================================================\n",
            "lstm_1 (LSTM)                (None, 3, 1024)           4214784   \n",
            "_________________________________________________________________\n",
            "dropout_1 (Dropout)          (None, 3, 1024)           0         \n",
            "_________________________________________________________________\n",
            "lstm_2 (LSTM)                (None, 3, 1024)           8392704   \n",
            "_________________________________________________________________\n",
            "dropout_2 (Dropout)          (None, 3, 1024)           0         \n",
            "_________________________________________________________________\n",
            "lstm_3 (LSTM)                (None, 3, 1024)           8392704   \n",
            "_________________________________________________________________\n",
            "dropout_3 (Dropout)          (None, 3, 1024)           0         \n",
            "_________________________________________________________________\n",
            "lstm_4 (LSTM)                (None, 1024)              8392704   \n",
            "_________________________________________________________________\n",
            "dropout_4 (Dropout)          (None, 1024)              0         \n",
            "_________________________________________________________________\n",
            "dense_1 (Dense)              (None, 1)                 1025      \n",
            "_________________________________________________________________\n",
            "activation_1 (Activation)    (None, 1)                 0         \n",
            "=================================================================\n",
            "Total params: 29,393,921\n",
            "Trainable params: 29,393,921\n",
            "Non-trainable params: 0\n",
            "_________________________________________________________________\n",
            "Train on 645 samples, validate on 159 samples\n",
            "Epoch 1/53\n"
          ],
          "name": "stdout"
        }
      ]
    },
    {
      "cell_type": "markdown",
      "metadata": {
        "id": "3VcD7gcXnVYP",
        "colab_type": "text"
      },
      "source": [
        "Plot the results:"
      ]
    },
    {
      "cell_type": "code",
      "metadata": {
        "id": "2DJ7tz97AAIC",
        "colab_type": "code",
        "colab": {}
      },
      "source": [
        "plot_results(btc_history, btc_model, Y_train_btc, coin='BTC')"
      ],
      "execution_count": 0,
      "outputs": []
    },
    {
      "cell_type": "markdown",
      "metadata": {
        "id": "mWsBSJltncWn",
        "colab_type": "text"
      },
      "source": [
        "Initializing the model and training it for predicting ETH price for next day:"
      ]
    },
    {
      "cell_type": "code",
      "metadata": {
        "id": "2_f1N-xn0jOh",
        "colab_type": "code",
        "cellView": "code",
        "colab": {}
      },
      "source": [
        "# clean up the memory\n",
        "gc.collect()\n",
        "\n",
        "# random seed for reproducibility\n",
        "np.random.seed(202)\n",
        "\n",
        "# initialise model architecture\n",
        "eth_model = build_model(X_train, output_size=1, neurons=neurons)\n",
        "\n",
        "# train model on data\n",
        "eth_history = eth_model.fit(X_train, Y_train_eth, epochs=epochs, batch_size=batch_size, verbose=1, validation_data=(X_test, Y_test_eth), shuffle=False)"
      ],
      "execution_count": 0,
      "outputs": []
    },
    {
      "cell_type": "code",
      "metadata": {
        "id": "BgBbhBec1pMf",
        "colab_type": "code",
        "colab": {}
      },
      "source": [
        "plot_results(eth_history, eth_model, Y_train_eth, coin='ETH')"
      ],
      "execution_count": 0,
      "outputs": []
    }
  ]
}